{
    "metadata": {
        "kernelspec": {
            "name": "SQL",
            "display_name": "SQL",
            "language": "sql"
        },
        "language_info": {
            "name": "sql",
            "version": ""
        }
    },
    "nbformat_minor": 2,
    "nbformat": 4,
    "cells": [
        {
            "cell_type": "code",
            "source": [
                "USE Library;"
            ],
            "metadata": {
                "azdata_cell_guid": "efc4591c-f66d-400b-868b-10eea8af4bc5"
            },
            "outputs": [],
            "execution_count": null
        },
        {
            "cell_type": "markdown",
            "source": [
                "# Ćwiczenie 1 - wybieranie danych\n",
                "\n",
                "---\n",
                "\n",
                "1. Napisz polecenie select, za pomoca którego uzyskasz tytuł i numer książki"
            ],
            "metadata": {
                "azdata_cell_guid": "66763496-c126-47ba-9040-2957f499f71b"
            },
            "attachments": {}
        },
        {
            "cell_type": "code",
            "source": [
                "select title_no,title from title;"
            ],
            "metadata": {
                "azdata_cell_guid": "d2f42ff0-f100-4714-a8c9-29f86f33c557"
            },
            "outputs": [],
            "execution_count": null
        },
        {
            "cell_type": "markdown",
            "source": [
                "2. Napisz polecenie, które wybiera tytuł o numerze 10"
            ],
            "metadata": {
                "azdata_cell_guid": "93260205-15b3-41f9-9619-b2607f4065a3"
            }
        },
        {
            "cell_type": "code",
            "source": [
                "select title from title where title_no=10;"
            ],
            "metadata": {
                "azdata_cell_guid": "9ef2339d-b12a-4293-a738-0f97aca805bb"
            },
            "outputs": [],
            "execution_count": null
        },
        {
            "cell_type": "markdown",
            "source": [
                "3. Napisz polecenie, które wybiera numer czytelnika i karę\n",
                "dla tych czytelników, którzy mają kary między $8 a $9"
            ],
            "metadata": {
                "azdata_cell_guid": "3c318ef5-3513-4965-a7ab-5f99735554be"
            }
        },
        {
            "cell_type": "code",
            "source": [
                "select member_no,fine_assessed from loanhist WHERE fine_assessed BETWEEN 8.00 and 9.00"
            ],
            "metadata": {
                "azdata_cell_guid": "38a4432c-24b4-48e1-9b6a-8f715c3d5799"
            },
            "outputs": [],
            "execution_count": null
        },
        {
            "cell_type": "markdown",
            "source": [
                "4. Napisz polecenie select, za pomocą którego uzyskasz\n",
                "numer książki i autora dla wszystkich książek, których\n",
                "autorem jest Charles Dickens lub Jane Austen"
            ],
            "metadata": {
                "azdata_cell_guid": "0b7d959e-95bf-4a7d-8452-9f42efe16d4f"
            }
        },
        {
            "cell_type": "code",
            "source": [
                "SELECT title_no,title from title WHERE author like '%Charles Dickens%' or author LIKE '%Jane Austen%'"
            ],
            "metadata": {
                "azdata_cell_guid": "695e64b4-615f-4b63-91c7-897bf71c3cb8"
            },
            "outputs": [],
            "execution_count": null
        },
        {
            "cell_type": "markdown",
            "source": [
                "5. Napisz polecenie, które wybiera numer tytułu i tytuł dla wszystkich rekordów zawierających string „adventure” gdzieś w tytule."
            ],
            "metadata": {
                "azdata_cell_guid": "6fcdd035-920f-4576-aa51-750732aea7c5"
            },
            "attachments": {}
        },
        {
            "cell_type": "code",
            "source": [
                "select title_no,title from title where title like '%adventure%'"
            ],
            "metadata": {
                "azdata_cell_guid": "0cdf4e71-1917-4523-86d3-8e7f15a21ddb"
            },
            "outputs": [],
            "execution_count": null
        },
        {
            "cell_type": "markdown",
            "source": [
                "6. Napisz polecenie, które wybiera numer czytelnika, karę\n",
                "oraz zapłaconą karę dla wszystkich, którzy jeszcze nie\n",
                "zapłacili."
            ],
            "metadata": {
                "azdata_cell_guid": "6a60ac77-32b7-4c7e-9b5f-b6d758785b14"
            }
        },
        {
            "cell_type": "code",
            "source": [
                "select member_no,fine_assessed,fine_paid from loanhist where fine_paid != fine_assessed;"
            ],
            "metadata": {
                "azdata_cell_guid": "b5b61536-728b-40ae-85f7-4c92fa2cecae"
            },
            "outputs": [],
            "execution_count": null
        },
        {
            "cell_type": "markdown",
            "source": [
                "7. Napisz polecenie, które wybiera wszystkie unikalne pary\n",
                "miast i stanów z tablicy adult."
            ],
            "metadata": {
                "azdata_cell_guid": "75f12d6d-2b3d-4d82-87ac-673f9fd73950"
            }
        },
        {
            "cell_type": "code",
            "source": [
                "select distinct adult.city, adult.state from adult"
            ],
            "metadata": {
                "azdata_cell_guid": "2f067a73-9d10-4df2-be3c-1b34395327db"
            },
            "outputs": [],
            "execution_count": null
        },
        {
            "cell_type": "markdown",
            "source": [
                "## Ćwiczenia 2 - manipulowanie wynikowym zbiorem\n",
                "\n",
                "1. Napisz polecenie, które wybiera wszystkie tytuły z tablicy\n",
                "title i wyświetla je w porządku alfabetycznym."
            ],
            "metadata": {
                "azdata_cell_guid": "d9fa9cb0-eab0-4d9e-96cc-afa85d45bb47"
            },
            "attachments": {}
        },
        {
            "cell_type": "code",
            "source": [
                "select title from title order by title asc;"
            ],
            "metadata": {
                "azdata_cell_guid": "52ff9275-4061-4427-814e-032db442c52f"
            },
            "outputs": [],
            "execution_count": null
        },
        {
            "cell_type": "markdown",
            "source": [
                "2. Napisz polecenie, które:\n",
                "\n",
                "- wybiera numer członka biblioteki, isbn książki i wartość naliczonej kary dla wszystkich wypożyczeń, dla których naliczono karę"
            ],
            "metadata": {
                "azdata_cell_guid": "d833d8a9-9ae7-47b5-ad81-c8888aff61bf"
            },
            "attachments": {}
        },
        {
            "cell_type": "code",
            "source": [
                "select member_no,isbn,sum(fine_assessed) as 'sum_of_fines' from loanhist WHERE fine_assessed is not NULL GROUP by member_no,isbn order by sum_of_fines desc;"
            ],
            "metadata": {
                "azdata_cell_guid": "beb0dca0-3d4f-4b1c-a9d1-b806aff560c4"
            },
            "outputs": [],
            "execution_count": null
        },
        {
            "cell_type": "markdown",
            "source": [
                "- stwórz kolumnę wyliczeniową zawierającą podwojoną wartość kolumny fine\\_assessed\n",
                "    \n",
                "- stwórz alias ‘double fine’ dla tej kolumny"
            ],
            "metadata": {
                "azdata_cell_guid": "49194973-6eed-4c13-851c-684e612478e6"
            },
            "attachments": {}
        },
        {
            "cell_type": "code",
            "source": [
                "select member_no,isbn,sum(fine_assessed) as 'sum_of_fines',(fine_assessed *2) as 'double_fine' \n",
                "    from loanhist \n",
                "    WHERE fine_assessed is not NULL \n",
                "    GROUP by member_no,isbn \n",
                "    order by sum_of_fines desc;"
            ],
            "metadata": {
                "azdata_cell_guid": "9773cc3c-4068-4051-936a-7575875e0e62"
            },
            "outputs": [],
            "execution_count": null
        },
        {
            "cell_type": "markdown",
            "source": [
                "3. Napisz polecenie, które\n",
                "\n",
                "- generuje pojedynczą kolumnę, która zawiera kolumny: imię członka biblioteki, inicjał drugiego imienia i nazwisko dla wszystkich członków biblioteki, którzy nazywają się Anderson nazwij tak powstałą kolumnę „email\\_name”\n",
                "- zmodyfikuj polecenie, tak by zwróciło „listę proponowanych loginów e-mail” utworzonych przez połączenie imienia członka biblioteki, z inicjałem drugiego imienia i pierwszymi dwoma literami nazwiska (wszystko małymi literami)."
            ],
            "metadata": {
                "azdata_cell_guid": "dbd5b382-a307-49e7-a2d4-5bebab22fa05"
            },
            "attachments": {}
        },
        {
            "cell_type": "code",
            "source": [
                "select (firstname + ' ' + middleinitial + '. ' + lastname) as 'email_name' \n",
                "    from member \n",
                "    where lastname = 'Anderson';"
            ],
            "metadata": {
                "azdata_cell_guid": "77ec45de-ec1e-4558-9681-5077bc620862"
            },
            "outputs": [],
            "execution_count": null
        },
        {
            "cell_type": "markdown",
            "source": [
                "3. Napisz polecenie, które\n",
                "\n",
                "  \n",
                "\n",
                "- generuje pojedynczą kolumnę, która zawiera kolumny: imię\n",
                "członka biblioteki, inicjał drugiego imienia i nazwisko dla\n",
                "wszystkich członków biblioteki, którzy nazywają się Anderson\n",
                "\n",
                "- nazwij tak powstałą kolumnę „email\\_name”\n",
                "\n",
                "- zmodyfikuj polecenie, tak by zwróciło „listę proponowanych\n",
                "loginów e-mail” utworzonych przez połączenie imienia członka\n",
                "biblioteki, z inicjałem drugiego imienia i pierwszymi dwoma\n",
                "literami nazwiska (wszystko małymi literami)."
            ],
            "metadata": {
                "azdata_cell_guid": "38e9b744-1cb7-44f0-9f62-2435b16863c0"
            },
            "attachments": {}
        },
        {
            "cell_type": "code",
            "source": [
                "select (lower(REPLACE(firstname,' ','') +  TRIM(middleinitial) + substring(lastname,1,2))) as 'email_name' \n",
                "    from member \n",
                "    where lastname = 'Anderson';"
            ],
            "metadata": {
                "azdata_cell_guid": "7b6f0e85-8074-4bc7-8c43-5445e281a144"
            },
            "outputs": [],
            "execution_count": null
        },
        {
            "cell_type": "markdown",
            "source": [
                "4. Napisz polecenie, które wybiera title i title\\_no z tablicy\n",
                "title.\n",
                "\n",
                "- Wynikiem powinna być pojedyncza kolumna o formacie jak w\n",
                "przykładzie poniżej:\n",
                "\n",
                "    `The title is: Poems, title number 7`"
            ],
            "metadata": {
                "azdata_cell_guid": "4283deb4-4332-4755-8384-78c37d28faea"
            },
            "attachments": {}
        },
        {
            "cell_type": "code",
            "source": [
                "select ('The title is: ' + title + ', title number: ' + Ltrim(str(title_no))) as 'title_and_no' \n",
                "    from title;"
            ],
            "metadata": {
                "azdata_cell_guid": "c2d02015-61e2-40b3-9ea9-9b55686b5571",
                "tags": []
            },
            "outputs": [],
            "execution_count": null
        }
    ]
}