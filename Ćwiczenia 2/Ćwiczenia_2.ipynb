{
    "metadata": {
        "kernelspec": {
            "name": "SQL",
            "display_name": "SQL",
            "language": "sql"
        },
        "language_info": {
            "name": "sql",
            "version": ""
        }
    },
    "nbformat_minor": 2,
    "nbformat": 4,
    "cells": [
        {
            "cell_type": "code",
            "source": [
                "use Northwind;"
            ],
            "metadata": {
                "azdata_cell_guid": "6dd9a4ad-70c8-4756-8607-9881dfdeaca6"
            },
            "outputs": [],
            "execution_count": null
        },
        {
            "cell_type": "markdown",
            "source": [
                "1. Podaj liczbę produktów o cenach mniejszych niż 10$ lub większych niż 20$\n",
                ""
            ],
            "metadata": {
                "azdata_cell_guid": "fe934d2e-e0da-48e1-afdf-70487ebb459b"
            }
        },
        {
            "cell_type": "code",
            "source": [
                "SELECT COUNT(*)\n",
                "    FROM Products\n",
                "    WHERE UnitPrice < 10 or UnitPrice > 20;"
            ],
            "metadata": {
                "azdata_cell_guid": "f955c3ba-546b-41ec-847d-ab52d983c84d"
            },
            "outputs": [],
            "execution_count": null
        },
        {
            "cell_type": "markdown",
            "source": [
                "2. Podaj maksymalną cenę produktu dla produktów o cenach poniżej 20$\n",
                ""
            ],
            "metadata": {
                "azdata_cell_guid": "551110f6-2855-4826-8400-957398eaf5aa"
            }
        },
        {
            "cell_type": "code",
            "source": [
                "SELECT MAX(UnitPrice)\n",
                "    FROM Products\n",
                "    WHERE UnitPrice < 20;"
            ],
            "metadata": {
                "azdata_cell_guid": "9efa6d18-14d8-47bf-998f-43e67399b9bc"
            },
            "outputs": [],
            "execution_count": null
        },
        {
            "cell_type": "markdown",
            "source": [
                "3. Podaj maksymalną i minimalną i średnią cenę produktu dla produktów o produktach sprzedawanych w butelkach (‘bottle’)\n",
                ""
            ],
            "metadata": {
                "azdata_cell_guid": "18b702a5-60d5-4b14-9c6a-dcd57c0bf791"
            }
        },
        {
            "cell_type": "code",
            "source": [
                "SELECT MAX(UnitPrice) as 'max', MIN(UnitPrice) as 'min', AVG(UnitPrice) as'avg'\n",
                "    FROM Products\n",
                "    WHERE Products.QuantityPerUnit LIKE '%bottle%';"
            ],
            "metadata": {
                "azdata_cell_guid": "347e8f68-d2c7-4020-a76a-6d3c8e0def97"
            },
            "outputs": [],
            "execution_count": null
        },
        {
            "cell_type": "markdown",
            "source": [
                "4. Wypisz informację o wszystkich produktach o cenie powyżej średniej\n",
                ""
            ],
            "metadata": {
                "azdata_cell_guid": "3e98a8ff-f2ba-4bcc-9a8a-c06799f6f223"
            }
        },
        {
            "cell_type": "code",
            "source": [
                "SELECT *\n",
                "    FROM Products \n",
                "    WHERE UnitPrice > (SELECT AVG(UnitPrice) FROM Products);"
            ],
            "metadata": {
                "azdata_cell_guid": "17b2a6ed-9f1e-444b-a5f9-88099e4d4493"
            },
            "outputs": [],
            "execution_count": null
        },
        {
            "cell_type": "markdown",
            "source": [
                "5. Podaj sumę/wartość zamówienia o numerze 10250"
            ],
            "metadata": {
                "azdata_cell_guid": "9482f7f8-ed67-4ba1-9a36-0c569b3cda78"
            }
        },
        {
            "cell_type": "code",
            "source": [
                "SELECT SUM(UnitPrice*Quantity) as 'value'\n",
                "    FROM [Order Details]\n",
                "    WHERE OrderID = 10250;"
            ],
            "metadata": {
                "azdata_cell_guid": "790c6af7-d3df-4188-86bc-18f0a67c253c"
            },
            "outputs": [],
            "execution_count": null
        },
        {
            "cell_type": "markdown",
            "source": [
                "## Group ćw\n",
                "1. Podaj maksymalną cenę zamawianego produktu dla każdego zamówienia\n",
                ""
            ],
            "metadata": {
                "azdata_cell_guid": "187e1537-f8e9-45c2-8814-22ff3cfb838f"
            }
        },
        {
            "cell_type": "code",
            "source": [
                "SELECT MAX(UnitPrice) as'max', OrderID\n",
                "    FROM [Order Details]\n",
                "    GROUP BY OrderID;"
            ],
            "metadata": {
                "azdata_cell_guid": "916bc416-3957-4428-960e-91c20111db24"
            },
            "outputs": [],
            "execution_count": null
        },
        {
            "cell_type": "markdown",
            "source": [
                "2. Posortuj zamówienia wg maksymalnej ceny produktu\n",
                ""
            ],
            "metadata": {
                "azdata_cell_guid": "a36a7cb9-9754-406b-9616-98284fa68834"
            }
        },
        {
            "cell_type": "code",
            "source": [
                "SELECT MAX(UnitPrice) as'max', OrderID\n",
                "    FROM [Order Details]\n",
                "    GROUP BY OrderID\n",
                "    ORDER BY max DESC;"
            ],
            "metadata": {
                "azdata_cell_guid": "2c62c3b6-54a8-42ae-bf41-7c20758e782a"
            },
            "outputs": [],
            "execution_count": null
        },
        {
            "cell_type": "markdown",
            "source": [
                "3. Podaj maksymalną i minimalną cenę zamawianego produktu dla każdego zamówienia\n",
                ""
            ],
            "metadata": {
                "azdata_cell_guid": "9e664f1c-3d4a-48e4-853d-56277595200a"
            }
        },
        {
            "cell_type": "code",
            "source": [
                "SELECT MAX(UnitPrice), MIN(UnitPrice)\n",
                "    FROM [Order Details]\n",
                "    GROUP BY OrderID;"
            ],
            "metadata": {
                "azdata_cell_guid": "4e4233dc-f3ee-4cff-aa83-c2db2a204a07"
            },
            "outputs": [],
            "execution_count": null
        },
        {
            "cell_type": "markdown",
            "source": [
                "4. Podaj liczbę zamówień dostarczanych przez poszczególnych spedytorów (przewoźników)\n",
                ""
            ],
            "metadata": {
                "azdata_cell_guid": "ffded691-1076-4c15-9770-100fef4c6459"
            }
        },
        {
            "cell_type": "code",
            "source": [
                "SELECT COUNT(*) as 'cnt', (SELECT CompanyName From Shippers where ShipperID = ShipVia) as 'CompanyName'\n",
                "    FROM [Orders]\n",
                "    GROUP BY ShipVia;"
            ],
            "metadata": {
                "azdata_cell_guid": "e9dc32f0-3fee-4483-9ead-74f992409319"
            },
            "outputs": [],
            "execution_count": null
        },
        {
            "cell_type": "markdown",
            "source": [
                "5. Który z spedytorów był najaktywniejszy w 1997 roku"
            ],
            "metadata": {
                "azdata_cell_guid": "8392d883-69aa-419c-aaa8-faa4de05bf16"
            }
        },
        {
            "cell_type": "code",
            "source": [
                "SELECT TOP 1 COUNT(*) as 'cnt', (SELECT CompanyName From Shippers where ShipperID = ShipVia) as 'CompanyName'\n",
                "    FROM [Orders]\n",
                "    WHERE YEAR(ShippedDate) = 1997\n",
                "    GROUP BY ShipVia\n",
                "    ORDER BY cnt DESC;"
            ],
            "metadata": {
                "azdata_cell_guid": "416aa1a1-69f9-47dc-98c5-6123ecfbd21b"
            },
            "outputs": [],
            "execution_count": null
        },
        {
            "cell_type": "markdown",
            "source": [
                "1. Wyświetl zamówienia dla których liczba pozycji zamówienia jest większa niż 5\n",
                ""
            ],
            "metadata": {
                "azdata_cell_guid": "6fcac0de-0028-4740-ab45-a7960ee16d0c"
            }
        },
        {
            "cell_type": "code",
            "source": [
                "SELECT * \n",
                "    FROM Orders\n",
                "    WHERE OrderID in (SELECT OrderID \n",
                "                            FROM [Order Details]\n",
                "                            GROUP BY OrderID\n",
                "                            HAVING COUNT(*) > 5)"
            ],
            "metadata": {
                "azdata_cell_guid": "52474876-19a9-4a62-9f7b-c201533af4ec",
                "tags": []
            },
            "outputs": [],
            "execution_count": null
        },
        {
            "cell_type": "markdown",
            "source": [
                "2. Wyświetl klientów dla których w 1998 roku zrealizowano więcej niż 8 zamówień (wyniki posortuj malejąco wg łącznej kwoty za dostarczenie zamówień dla każdego z klientów)"
            ],
            "metadata": {
                "azdata_cell_guid": "00f1495a-d81b-4aa9-bddb-202e94fb4f7b"
            }
        },
        {
            "cell_type": "code",
            "source": [
                "SELECT * \n",
                "    FROM Customers\n",
                "    WHERE CustomerID in (\n",
                "        SELECT CustomerID\n",
                "                FROM Orders\n",
                "                WHERE (YEAR(ShippedDate) BETWEEN 1998 and 1998)\n",
                "                GROUP BY CustomerID\n",
                "                HAVING Count(*) > 8\n",
                "        )"
            ],
            "metadata": {
                "azdata_cell_guid": "8487920c-df6a-4df4-adf2-752383ff7607"
            },
            "outputs": [],
            "execution_count": null
        }
    ]
}