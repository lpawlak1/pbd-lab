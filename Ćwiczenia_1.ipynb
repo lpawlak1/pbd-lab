{
    "metadata": {
        "kernelspec": {
            "name": "SQL",
            "display_name": "SQL",
            "language": "sql"
        },
        "language_info": {
            "name": "sql",
            "version": ""
        }
    },
    "nbformat_minor": 2,
    "nbformat": 4,
    "cells": [
        {
            "cell_type": "markdown",
            "source": [
                "# Ćwiczenia 1 - Postawowe Komendy"
            ],
            "metadata": {
                "azdata_cell_guid": "74a3efcc-db77-4bf9-a603-ce32b1a696a3"
            },
            "attachments": {}
        },
        {
            "cell_type": "code",
            "source": [
                "use Northwind;"
            ],
            "metadata": {
                "azdata_cell_guid": "f8ef48df-e7ec-4836-ba2f-f28a9a6fe8ce"
            },
            "outputs": [],
            "execution_count": null
        },
        {
            "cell_type": "markdown",
            "source": [
                "## Postawowe SELECTY\n",
                "1. Wybierz nazwy i adresy wszystkich klientów"
            ],
            "metadata": {
                "azdata_cell_guid": "f59092fe-1ad1-4022-8129-8bcddf324261"
            },
            "attachments": {}
        },
        {
            "cell_type": "code",
            "source": [
                "SELECT ContactName, Address FROM Customers;"
            ],
            "metadata": {
                "azdata_cell_guid": "c5d27409-34c8-47de-9628-3ab95e5d9b6a"
            },
            "outputs": [],
            "execution_count": null
        },
        {
            "cell_type": "markdown",
            "source": [
                "2\\. Wybierz nazwiska i numery telefonów pracowników"
            ],
            "metadata": {
                "azdata_cell_guid": "4d8bf6bd-e0d8-43be-a29b-d3ef80c06207"
            },
            "attachments": {}
        },
        {
            "cell_type": "code",
            "source": [
                "SELECT LastName, HomePhone FROM Employees;"
            ],
            "metadata": {
                "azdata_cell_guid": "a158785c-02d5-4b48-86bb-b1faf3f76ad3"
            },
            "outputs": [],
            "execution_count": null
        },
        {
            "cell_type": "markdown",
            "source": [
                "3\\. Wybierz nazwy i ceny produktów"
            ],
            "metadata": {
                "azdata_cell_guid": "2963b4f9-b684-4165-aedb-884b0f2bce21"
            },
            "attachments": {}
        },
        {
            "cell_type": "code",
            "source": [
                "SELECT ProductName, UnitPrice FROM Products;"
            ],
            "metadata": {
                "azdata_cell_guid": "c529de6d-fe7c-4d1a-be4c-2bdcf5a136ed"
            },
            "outputs": [],
            "execution_count": null
        },
        {
            "cell_type": "markdown",
            "source": [
                "4\\. Pokaż wszystkie kategorie produktów (nazwy i opisy)"
            ],
            "metadata": {
                "azdata_cell_guid": "428ce054-78b9-4e58-a730-e173d5c36e37"
            },
            "attachments": {}
        },
        {
            "cell_type": "code",
            "source": [
                "SELECT CategoryName, [Description] FROM Categories;"
            ],
            "metadata": {
                "azdata_cell_guid": "ffc91ca7-df8a-4b4e-a17a-7ca55ad33d3a"
            },
            "outputs": [],
            "execution_count": null
        },
        {
            "cell_type": "markdown",
            "source": [
                "5\\. Pokaż nazwy i adresy stron www dostawców"
            ],
            "metadata": {
                "azdata_cell_guid": "93a8a609-3748-49bf-abaf-411df6ae6af0"
            },
            "attachments": {}
        },
        {
            "cell_type": "code",
            "source": [
                "SELECT CompanyName, HomePage FROM Suppliers;"
            ],
            "metadata": {
                "azdata_cell_guid": "66aa41d8-066a-48ac-a58f-39a3fb55cf1c"
            },
            "outputs": [],
            "execution_count": null
        },
        {
            "cell_type": "markdown",
            "source": [
                "## Wybory Wierszy\n",
                "1. Wybierz nazwy i adresy wszystkich klientów mających siedziby w Londynie\n",
                "\n",
                ""
            ],
            "metadata": {
                "azdata_cell_guid": "75e21a4f-3a76-4142-bb9d-282d0d8f55fa"
            }
        },
        {
            "cell_type": "code",
            "source": [
                "SELECT * \n",
                "    FROM Customers \n",
                "    WHERE City \n",
                "    LIKE 'London';"
            ],
            "metadata": {
                "azdata_cell_guid": "b4d63428-009a-456c-9b1b-eb0b609083cc"
            },
            "outputs": [],
            "execution_count": null
        },
        {
            "cell_type": "markdown",
            "source": [
                "2. Wybierz nazwy i adresy wszystkich klientów mających siedziby we Francji lub w Hiszpanii"
            ],
            "metadata": {
                "azdata_cell_guid": "16ea94b1-8473-424f-829f-4290d738293c"
            }
        },
        {
            "cell_type": "code",
            "source": [
                "SELECT * \n",
                "    FROM Customers \n",
                "    WHERE Country \n",
                "    LIKE 'France' \n",
                "        OR Country LIKE 'Spain';"
            ],
            "metadata": {
                "azdata_cell_guid": "a89e803d-13a9-48aa-90a8-2995cab13261"
            },
            "outputs": [],
            "execution_count": null
        },
        {
            "cell_type": "markdown",
            "source": [
                "3. Wybierz nazwy i ceny produktów o cenie jednostkowej pomiędzy 20.00 a 30.00\n",
                ""
            ],
            "metadata": {
                "azdata_cell_guid": "7e184ff6-614f-41a5-ba01-043cf81db781"
            }
        },
        {
            "cell_type": "code",
            "source": [
                "SELECT * \n",
                "    FROM Products \n",
                "    WHERE UnitPrice \n",
                "    BETWEEN 20.00 \n",
                "        AND 30.00;"
            ],
            "metadata": {
                "azdata_cell_guid": "88d736a4-8b1f-46d1-8505-ec0b4d59a191"
            },
            "outputs": [],
            "execution_count": null
        },
        {
            "cell_type": "markdown",
            "source": [
                "4. Wybierz nazwy i ceny produktów z kategorii ‘meat’\n",
                ""
            ],
            "metadata": {
                "azdata_cell_guid": "01b32d61-f17c-4909-ae96-ef52438bd553"
            }
        },
        {
            "cell_type": "code",
            "source": [
                "SELECT ProductName, UnitPrice\n",
                "    FROM Products \n",
                "    WHERE CategoryID = 6;"
            ],
            "metadata": {
                "azdata_cell_guid": "f0f448b3-fbc4-48bb-a9e3-40198dbc2c26"
            },
            "outputs": [],
            "execution_count": null
        },
        {
            "cell_type": "markdown",
            "source": [
                "5. Wybierz nazwy produktów oraz inf. o stanie magazynu dla produktów dostarczanych przez firmę ‘Tokyo Traders’\n",
                ""
            ],
            "metadata": {
                "azdata_cell_guid": "31738df1-03d6-442e-9112-59658ecb2473"
            }
        },
        {
            "cell_type": "code",
            "source": [
                "DECLARE @id INT;\n",
                "\n",
                "SET @id = (SELECT SupplierID FROM Suppliers WHERE CompanyName = 'Tokyo Traders');\n",
                "\n",
                "SELECT ProductName FROM Products WHERE SupplierID LIKE @id;"
            ],
            "metadata": {
                "azdata_cell_guid": "0a870445-0003-4ebb-be1e-ff0f99d931df"
            },
            "outputs": [],
            "execution_count": null
        },
        {
            "cell_type": "markdown",
            "source": [
                "6. Wybierz nazwy produktów których nie ma w magazynie"
            ],
            "metadata": {
                "azdata_cell_guid": "e24f5dd1-44b9-4db0-b52e-ff86fda4b433"
            }
        },
        {
            "cell_type": "code",
            "source": [
                "USE Northwind;\n",
                "SELECT ProductName \n",
                "    FROM Products \n",
                "    WHERE UnitsInStock = 0;"
            ],
            "metadata": {
                "azdata_cell_guid": "ea25ad38-7ad2-4841-8705-8107bcfb557a",
                "tags": []
            },
            "outputs": [],
            "execution_count": null
        },
        {
            "cell_type": "markdown",
            "source": [
                "## Porównywanie napisów - ćwiczenie\n",
                "\n",
                "1. Szukamy informacji o produktach sprzedawanych w butelkach (‘bottle’)\n",
                ""
            ],
            "metadata": {
                "azdata_cell_guid": "7b3b1041-e23f-4cf0-8991-302f3c34ea53"
            }
        },
        {
            "cell_type": "code",
            "source": [
                "SELECT * \n",
                "    FROM Products \n",
                "    WHERE QuantityPerUnit LIKE '%bottle%';"
            ],
            "metadata": {
                "azdata_cell_guid": "7004ecf2-d726-46e4-99fa-8d8f071fb0bb"
            },
            "outputs": [],
            "execution_count": null
        },
        {
            "cell_type": "markdown",
            "source": [
                "2. Wyszukaj informacje o stanowisku pracowników, których nazwiska zaczynają się na literę z zakresu od B do L"
            ],
            "metadata": {
                "azdata_cell_guid": "de3235b1-7d8d-478c-a207-3a5fd9818b34"
            },
            "attachments": {}
        },
        {
            "cell_type": "code",
            "source": [
                "SELECT * \n",
                "    FROM Employees \n",
                "    WHERE LastName LIKE '[B-L]%';"
            ],
            "metadata": {
                "azdata_cell_guid": "4567cc05-eead-4511-ae2b-db653e0180c9"
            },
            "outputs": [],
            "execution_count": null
        },
        {
            "cell_type": "markdown",
            "source": [
                "3. Wyszukaj informacje o stanowisku pracowników, których nazwiska zaczynają się na literę B lub L"
            ],
            "metadata": {
                "azdata_cell_guid": "1922426f-045c-4313-8b6d-17b71c8ec4cd"
            },
            "attachments": {}
        },
        {
            "cell_type": "code",
            "source": [
                "SELECT *\n",
                "    FROM Employees\n",
                "    WHERE LastName LIKE '[BL]%';"
            ],
            "metadata": {
                "azdata_cell_guid": "9fefde84-92ae-47eb-89bd-20dd0ba265f6"
            },
            "outputs": [],
            "execution_count": null
        },
        {
            "cell_type": "markdown",
            "source": [
                "4. Znajdź nazwy kategorii, które w opisie zawierają przecinek"
            ],
            "metadata": {
                "azdata_cell_guid": "b0145332-0daf-46bb-9937-99b0caff8e7b"
            },
            "attachments": {}
        },
        {
            "cell_type": "code",
            "source": [
                "SELECT CategoryName\n",
                "    FROM Categories\n",
                "    WHERE [Description] LIKE '%,%';"
            ],
            "metadata": {
                "azdata_cell_guid": "e6381c81-5968-462b-8874-c95fd5316ad8"
            },
            "outputs": [],
            "execution_count": null
        },
        {
            "cell_type": "markdown",
            "source": [
                "5. Znajdź klientów, którzy w swojej nazwie mają w którymś miejscu słowo ‘Store\n",
                ""
            ],
            "metadata": {
                "azdata_cell_guid": "4c54b05c-2cef-4ccb-8a8e-af516b6d7e22"
            }
        },
        {
            "cell_type": "code",
            "source": [
                "SELECT *\n",
                "    FROM Customers\n",
                "    WHERE [CompanyName] LIKE '%Store%';"
            ],
            "metadata": {
                "azdata_cell_guid": "2e0bedbf-7ba2-4456-bb35-20e1c36a9834",
                "tags": [
                    "hide_input"
                ]
            },
            "outputs": [],
            "execution_count": null
        },
        {
            "cell_type": "markdown",
            "source": [
                "## Zakres wartości\n",
                "1. Szukamy informacji o produktach o cenach mniejszych niż 10 lub większych niż 20"
            ],
            "metadata": {
                "azdata_cell_guid": "d902b346-e49f-4ec5-9afe-ac3cbf82a8a9"
            }
        },
        {
            "cell_type": "code",
            "source": [
                "SELECT *\n",
                "    FROM Products\n",
                "    WHERE UnitPrice < 10 OR UnitPrice > 20\n",
                "    ORDER BY UnitPrice ASC;"
            ],
            "metadata": {
                "azdata_cell_guid": "4a42729e-782a-4b43-a9ff-6997670d39e7"
            },
            "outputs": [],
            "execution_count": null
        },
        {
            "cell_type": "markdown",
            "source": [
                "2. Wybierz nazwy i ceny produktów o cenie jednostkowej pomiędzy 20.00 a 30.00"
            ],
            "metadata": {
                "azdata_cell_guid": "6f09dbdc-e9b9-4c0e-b442-05a0a403c3b9"
            }
        },
        {
            "cell_type": "code",
            "source": [
                "SELECT *\n",
                "    FROM Products\n",
                "    WHERE UnitPrice BETWEEN 20 and 30\n",
                "    ORDER BY UnitPrice ASC;"
            ],
            "metadata": {
                "azdata_cell_guid": "ebe8a848-b909-4cc1-949e-e96b25c49583"
            },
            "outputs": [],
            "execution_count": null
        },
        {
            "cell_type": "markdown",
            "source": [
                "## Warunki logiczne\n",
                "1. Wybierz nazwy i kraje wszystkich klientów mających siedziby w Japonii lub we Włoszech"
            ],
            "metadata": {
                "azdata_cell_guid": "295ce976-6586-4b28-80b1-bf9e0c45e9de"
            }
        },
        {
            "cell_type": "code",
            "source": [
                "SELECT *\n",
                "    FROM Customers\n",
                "    WHERE Country LIKE 'Japan' OR Country LIKE 'Italy';"
            ],
            "metadata": {
                "azdata_cell_guid": "381941a6-9a3b-4771-b5d6-5c59baa7c568"
            },
            "outputs": [],
            "execution_count": null
        },
        {
            "cell_type": "markdown",
            "source": [
                "## ORDER BY\n",
                "1. Wybierz nazwy i kraje wszystkich klientów, wyniki posortuj według kraju, w ramach danego kraju nazwy firm posortuj alfabetycznie"
            ],
            "metadata": {
                "azdata_cell_guid": "fe98b555-5119-4cfb-b483-c4fd29e37bf2"
            }
        },
        {
            "cell_type": "code",
            "source": [
                "SELECT CompanyName, Country\n",
                "    FROM Customers\n",
                "    ORDER BY Country, CompanyName ASC;"
            ],
            "metadata": {
                "azdata_cell_guid": "234ba048-d140-44bd-9b26-84966d28f955"
            },
            "outputs": [],
            "execution_count": null
        },
        {
            "cell_type": "markdown",
            "source": [
                "2. Wybierz informację o produktach (grupa, nazwa, cena), produkty posortuj wg grup a w grupach malejąco wg ceny"
            ],
            "metadata": {
                "azdata_cell_guid": "2241b28d-c8fe-4d3e-bd71-39a0b997bed5"
            }
        },
        {
            "cell_type": "code",
            "source": [
                "SELECT CategoryID, ProductName, UnitPrice\n",
                "    FROM Products\n",
                "    ORDER BY CategoryID, UnitPrice DESC;"
            ],
            "metadata": {
                "azdata_cell_guid": "672bb499-1153-4cb1-a77f-99c06a9bc5e0"
            },
            "outputs": [],
            "execution_count": null
        },
        {
            "cell_type": "markdown",
            "source": [
                "3. Wybierz nazwy i kraje wszystkich klientów mających siedziby w Japonii (Japan) lub we Włoszech (Italy), wyniki posortuj tak jak w pkt 1"
            ],
            "metadata": {
                "azdata_cell_guid": "6aebaa91-630d-4c39-8d3d-bc67d934b737"
            }
        },
        {
            "cell_type": "code",
            "source": [
                "SELECT CompanyName, Country\n",
                "    FROM Customers\n",
                "    WHERE Country LIKE 'Japan' \n",
                "        OR Country LIKE 'Italy'\n",
                "    ORDER BY Country, CompanyName DESC; "
            ],
            "metadata": {
                "azdata_cell_guid": "31b1e29a-8d5d-416e-b0e6-09b534a49e25"
            },
            "outputs": [],
            "execution_count": null
        },
        {
            "cell_type": "markdown",
            "source": [
                "## Ćwiczenia na koniec :)\n",
                "1. Napisz polecenie, które oblicza wartość każdej pozycji zamówienia o numerze 10250\n",
                ""
            ],
            "metadata": {
                "azdata_cell_guid": "edd4e4ed-e335-4cb6-b964-9e35c4b2e737"
            }
        },
        {
            "cell_type": "code",
            "source": [
                "SELECT ProductID,(UnitPrice * Quantity) as 'value' FROM [Order Details] WHERE OrderID = 10250;"
            ],
            "metadata": {
                "azdata_cell_guid": "e26c1d03-1864-4884-95b0-29915095b339"
            },
            "outputs": [],
            "execution_count": null
        },
        {
            "cell_type": "markdown",
            "source": [
                "2. Napisz polecenie które dla każdego dostawcy (supplier) pokaże pojedynczą kolumnę zawierającą nr telefonu i nr faksu w formacie (numer telefonu i faksu mają być oddzielone przecinkiem)"
            ],
            "metadata": {
                "azdata_cell_guid": "8ca5dc91-b6da-4a10-a76b-97623802959b"
            }
        },
        {
            "cell_type": "code",
            "source": [
                "SELECT (Phone + ', ' + Fax) as 'Contact'\n",
                "    FROM Suppliers;"
            ],
            "metadata": {
                "azdata_cell_guid": "8ff67fa8-078d-45fd-96f2-b3bd3fd31c7a"
            },
            "outputs": [],
            "execution_count": null
        }
    ]
}