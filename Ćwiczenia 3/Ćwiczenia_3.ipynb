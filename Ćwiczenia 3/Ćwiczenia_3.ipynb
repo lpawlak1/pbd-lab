{
    "metadata": {
        "kernelspec": {
            "name": "SQL",
            "display_name": "SQL",
            "language": "sql"
        },
        "language_info": {
            "name": "sql",
            "version": ""
        }
    },
    "nbformat_minor": 2,
    "nbformat": 4,
    "cells": [
        {
            "cell_type": "markdown",
            "source": [
                "1. Wybierz nazwy i ceny produktów (baza northwind) o cenie jednostkowej pomiędzy 20.00 a 30.00, dla każdego produktu podaj dane adresowe dostawcy, interesują nas tylko produkty z kategorii ‘Meat/Poultry’\n",
                ""
            ],
            "metadata": {
                "azdata_cell_guid": "862f0d3c-c8d8-4ce5-80d8-866c439d2298"
            }
        },
        {
            "cell_type": "code",
            "source": [
                ""
            ],
            "metadata": {
                "azdata_cell_guid": "afee911d-cb59-4679-9106-a47e31f5665f"
            },
            "outputs": [],
            "execution_count": null
        },
        {
            "cell_type": "markdown",
            "source": [
                "2. Wybierz nazwy i ceny produktów z kategorii ‘Confections’ dla każdego produktu podaj nazwę dostawcy.\n",
                ""
            ],
            "metadata": {
                "azdata_cell_guid": "a9ed2565-0056-46dc-955c-b917098c440a"
            }
        },
        {
            "cell_type": "code",
            "source": [
                ""
            ],
            "metadata": {
                "azdata_cell_guid": "13bda45b-020e-4988-8971-088143115a6c"
            },
            "outputs": [],
            "execution_count": null
        },
        {
            "cell_type": "markdown",
            "source": [
                "3. Wybierz nazwy i numery telefonów klientów , którym w 1997 roku przesyłki dostarczała firma ‘United Package’\n",
                ""
            ],
            "metadata": {
                "azdata_cell_guid": "745dd2e4-9bd0-40bf-a8cd-ec3ebc351911"
            }
        },
        {
            "cell_type": "code",
            "source": [
                ""
            ],
            "metadata": {
                "azdata_cell_guid": "1d87c001-d66b-48b5-b8b9-bcfcf02b8117"
            },
            "outputs": [],
            "execution_count": null
        },
        {
            "cell_type": "markdown",
            "source": [
                "4. Wybierz nazwy i numery telefonów klientów, którzy kupowali produkty z kategorii ‘Confections’"
            ],
            "metadata": {
                "azdata_cell_guid": "0a689f55-bf17-4bd0-9b2f-8457339a1fdc"
            }
        },
        {
            "cell_type": "code",
            "source": [
                ""
            ],
            "metadata": {
                "azdata_cell_guid": "067d4f1f-7bb4-4d34-8827-531a41e8c99c"
            },
            "outputs": [],
            "execution_count": null
        },
        {
            "cell_type": "markdown",
            "source": [
                "---\n",
                "\n",
                "1. Napisz polecenie, które wyświetla listę dzieci będących członkami biblioteki (baza\n",
                "library). Interesuje nas imię, nazwisko, data urodzenia dziecka i adres\n",
                "zamieszkania dziecka.\n",
                ""
            ],
            "metadata": {
                "azdata_cell_guid": "10283daa-019a-4cfc-9e99-c601978e5af3"
            }
        },
        {
            "cell_type": "code",
            "source": [
                ""
            ],
            "metadata": {
                "azdata_cell_guid": "27055544-2ded-4959-949e-8d5324a7c1a7"
            },
            "outputs": [],
            "execution_count": null
        },
        {
            "cell_type": "markdown",
            "source": [
                "2. Napisz polecenie, które wyświetla listę dzieci będących członkami biblioteki (baza library).  nteresuje nas imię, nazwisko, data urodzenia dziecka, adres zamieszkania dziecka oraz imię i nazwisko rodzica. "
            ],
            "metadata": {
                "azdata_cell_guid": "ccf13a50-88b2-4e74-8f3b-7d72b7cbc1b9"
            }
        },
        {
            "cell_type": "code",
            "source": [
                ""
            ],
            "metadata": {
                "azdata_cell_guid": "cb8cd048-89af-4a58-bfe8-e55e40caecb4"
            },
            "outputs": [],
            "execution_count": null
        },
        {
            "cell_type": "markdown",
            "source": [
                "---\n",
                "1. Napisz polecenie, które wyświetla pracowników oraz ich podwładnych (baza northwind)\n",
                ""
            ],
            "metadata": {
                "azdata_cell_guid": "d7da6f45-fa2b-4aa6-b8ab-ae41bc71b0df"
            }
        },
        {
            "cell_type": "code",
            "source": [
                ""
            ],
            "metadata": {
                "azdata_cell_guid": "029f021e-d73b-4683-a599-d71595d265f5"
            },
            "outputs": [],
            "execution_count": null
        },
        {
            "cell_type": "markdown",
            "source": [
                "2. Napisz polecenie, które wyświetla pracowników, którzy nie mają podwładnych (baza northwind)\n",
                ""
            ],
            "metadata": {
                "azdata_cell_guid": "ce678378-a5e6-4f6b-8a5b-075ccada6051"
            }
        },
        {
            "cell_type": "code",
            "source": [
                ""
            ],
            "metadata": {
                "azdata_cell_guid": "4b698e50-0480-4356-9d2a-9468b5a0236e"
            },
            "outputs": [],
            "execution_count": null
        },
        {
            "cell_type": "markdown",
            "source": [
                "3. Napisz polecenie, które wyświetla adresy członków biblioteki, którzy mają dzieci urodzone przed 1 stycznia 1996\n",
                ""
            ],
            "metadata": {
                "azdata_cell_guid": "d87045f5-893f-462e-a27b-4910f1924c8f"
            }
        },
        {
            "cell_type": "code",
            "source": [
                ""
            ],
            "metadata": {
                "azdata_cell_guid": "f289e598-f7ee-4ad0-81be-e14a6879ec21"
            },
            "outputs": [],
            "execution_count": null
        },
        {
            "cell_type": "markdown",
            "source": [
                "4. Napisz polecenie, które wyświetla adresy członków biblioteki, którzy mają dzieci urodzone  rzed 1 stycznia 1996. Interesują nas tylko adresy takich członków biblioteki, którzy aktualnie nie przetrzymują książek."
            ],
            "metadata": {
                "azdata_cell_guid": "ae49df02-d637-4ef8-b97c-9d899ff030db"
            }
        },
        {
            "cell_type": "code",
            "source": [
                ""
            ],
            "metadata": {
                "azdata_cell_guid": "dd5b706e-2646-438c-b7f9-ff8615639314"
            },
            "outputs": [],
            "execution_count": null
        },
        {
            "cell_type": "markdown",
            "source": [
                "---\n",
                "1. Napisz polecenie które zwraca imię i nazwisko (jako pojedynczą kolumnę – name), oraz  nformacje o adresie: ulica, miasto, stan kod (jako pojedynczą kolumnę – address) dla wszystkich dorosłych członków biblioteki\n",
                ""
            ],
            "metadata": {
                "azdata_cell_guid": "2e3a6058-eb12-45ac-a4ad-729026f507a8"
            }
        },
        {
            "cell_type": "code",
            "source": [
                ""
            ],
            "metadata": {
                "azdata_cell_guid": "8c18d017-a6e5-4f3f-9dc6-1881ff50d1c2"
            },
            "outputs": [],
            "execution_count": null
        },
        {
            "cell_type": "markdown",
            "source": [
                "2. Napisz polecenie, które zwraca: isbn, copy_no, on_loan, title, translation, cover, dla książek o isbn 1, 500 i 1000. Wynik posortuj wg ISBN\n",
                ""
            ],
            "metadata": {
                "azdata_cell_guid": "12def326-7197-4004-ad3e-dcc0868d2133"
            }
        },
        {
            "cell_type": "code",
            "source": [
                ""
            ],
            "metadata": {
                "azdata_cell_guid": "7f72edef-71c0-48e4-9cf4-42d17644d74b"
            },
            "outputs": [],
            "execution_count": null
        },
        {
            "cell_type": "markdown",
            "source": [
                "3. Napisz polecenie które zwraca o użytkownikach biblioteki o nr 250, 342, i 1675 (dla każdego użytkownika: nr, imię i nazwisko członka biblioteki), oraz informację o zarezerwowanych książkach (isbn, data)\n",
                ""
            ],
            "metadata": {
                "azdata_cell_guid": "ef2f9bc3-364d-46c2-80f1-efa2fdc304b2"
            }
        },
        {
            "cell_type": "code",
            "source": [
                ""
            ],
            "metadata": {
                "azdata_cell_guid": "da86cc16-be18-48b8-a8a1-54709bf0a837"
            },
            "outputs": [],
            "execution_count": null
        },
        {
            "cell_type": "markdown",
            "source": [
                "4. Podaj listę członków biblioteki mieszkających w Arizonie (AZ) mają więcej niż dwoje dzieci zapisanych do biblioteki "
            ],
            "metadata": {
                "azdata_cell_guid": "58b42e2e-3e9f-4f9a-8d7a-ba8ae027ed53"
            }
        },
        {
            "cell_type": "code",
            "source": [
                ""
            ],
            "metadata": {
                "azdata_cell_guid": "ed8bbba8-f6d3-462f-88e0-b4aff219a40f"
            },
            "outputs": [],
            "execution_count": null
        },
        {
            "cell_type": "markdown",
            "source": [
                "---\n",
                "1. Podaj listę członków biblioteki mieszkających w Arizonie (AZ) którzy mają więcej\n",
                "niż dwoje dzieci zapisanych do biblioteki oraz takich którzy mieszkają w Kaliforni\n",
                "(CA) i mają więcej niż troje dzieci zapisanych do biblioteki"
            ],
            "metadata": {
                "azdata_cell_guid": "b86abaef-765d-4ece-a930-3f8ffd34a2d4"
            }
        },
        {
            "cell_type": "code",
            "source": [
                ""
            ],
            "metadata": {
                "azdata_cell_guid": "d357b71d-bea5-48ef-8a73-e1dbc6e4b5c6"
            },
            "outputs": [],
            "execution_count": null
        }
    ]
}