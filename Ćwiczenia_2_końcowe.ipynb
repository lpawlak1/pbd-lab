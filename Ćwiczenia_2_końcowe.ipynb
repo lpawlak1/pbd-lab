{
    "metadata": {
        "kernelspec": {
            "name": "SQL",
            "display_name": "SQL",
            "language": "sql"
        },
        "language_info": {
            "name": "sql",
            "version": ""
        }
    },
    "nbformat_minor": 2,
    "nbformat": 4,
    "cells": [
        {
            "cell_type": "code",
            "source": [
                "use Northwind;"
            ],
            "metadata": {
                "azdata_cell_guid": "f38c087f-6d36-4f36-8f47-e1cb5ef6bed3"
            },
            "outputs": [],
            "execution_count": null
        },
        {
            "cell_type": "markdown",
            "source": [
                "1. Napisz polecenie, które oblicza wartość sprzedaży dla każdego zamówienia i wynik zwraca posortowany w malejącej kolejności (wg wartości sprzedaży)."
            ],
            "metadata": {
                "azdata_cell_guid": "a9a784b7-9e32-498f-9764-3bd58d629d09"
            }
        },
        {
            "cell_type": "code",
            "source": [
                "SELECT OrderID, sum(UnitPrice * Quantity * Discount) as 'sum_of_products' \n",
                "    from [order details] \n",
                "    group by OrderID \n",
                "    order by sum_of_products desc;"
            ],
            "metadata": {
                "azdata_cell_guid": "d18f8c43-d5db-4eb3-b473-83332851afc6",
                "tags": []
            },
            "outputs": [],
            "execution_count": null
        },
        {
            "cell_type": "markdown",
            "source": [
                "2. Zmodyfikuj zapytanie z punktu 1., tak aby zwracało pierwszych 10 wierszy"
            ],
            "metadata": {
                "azdata_cell_guid": "aceafa07-e370-4b5c-b216-0124e3470141"
            },
            "attachments": {}
        },
        {
            "cell_type": "code",
            "source": [
                "SELECT top 10 OrderID, sum(UnitPrice * Quantity) as 'sum_of_products' \n",
                "    from [order details] \n",
                "    group by OrderID \n",
                "    order by sum_of_products desc;"
            ],
            "metadata": {
                "azdata_cell_guid": "24893cda-1a41-4fbc-8b51-4455f7a89f03"
            },
            "outputs": [],
            "execution_count": null
        },
        {
            "cell_type": "markdown",
            "source": [
                "3. Zmodyfikuj zapytanie z punktu 2., tak aby zwracało 10 pierwszych produktów wliczając równorzędne. Porównaj wyniki."
            ],
            "metadata": {
                "azdata_cell_guid": "0211b0f5-2569-45bf-a704-c047b24a565b"
            },
            "attachments": {}
        },
        {
            "cell_type": "code",
            "source": [
                "SELECT top 10 WITH TIES OrderID, sum(UnitPrice * Quantity) as 'sum_of_products' \n",
                "    from [order details] \n",
                "    group by OrderID \n",
                "    order by sum_of_products desc;"
            ],
            "metadata": {
                "azdata_cell_guid": "0758d438-f4de-4457-a476-c49a3eacc0c7"
            },
            "outputs": [],
            "execution_count": null
        },
        {
            "cell_type": "markdown",
            "source": [
                "## Ćwiczenie 2\n",
                "\n",
                "1. Podaj liczbę zamówionych jednostek produktów dla produktów o\n",
                "identyfikatorze < 3"
            ],
            "metadata": {
                "azdata_cell_guid": "e7620784-ec16-43b9-8f2a-dc8df08a907b"
            }
        },
        {
            "cell_type": "code",
            "source": [
                "select sum(quantity) as 'sum_of_quantity', ProductID \n",
                "    from [order details] \n",
                "    where ProductID < 3 \n",
                "    group by productID;"
            ],
            "metadata": {
                "azdata_cell_guid": "7e7cf336-2342-4c7a-867f-6361dab3919c"
            },
            "outputs": [],
            "execution_count": null
        },
        {
            "cell_type": "markdown",
            "source": [
                "2. Zmodyfikuj zapytanie z punktu 1. tak aby podawało liczbę zamówionych jednostek produktu dla wszystkich produktów."
            ],
            "metadata": {
                "azdata_cell_guid": "79e663b3-f48e-40ea-854e-7a9a675a4380"
            }
        },
        {
            "cell_type": "code",
            "source": [
                "select sum(quantity) as 'sum_of_quantity', ProductID \n",
                "    from [order details] \n",
                "    group by productID;"
            ],
            "metadata": {
                "azdata_cell_guid": "6ca3506f-2e8e-4c25-94e2-3845cdd253ee"
            },
            "outputs": [],
            "execution_count": null
        },
        {
            "cell_type": "markdown",
            "source": [
                "3. Podaj wartość zamówienia dla każdego zamówienia, dla którego łączna liczba zamawianych jednostek produktów jest > 250."
            ],
            "metadata": {
                "azdata_cell_guid": "9a6d0f91-9d4c-4d16-9185-c181a1a6c0c5"
            }
        },
        {
            "cell_type": "code",
            "source": [
                "select productid, sum(quantity) as 'total_quantity' from [order details]\n",
                "    group by ProductID\n",
                "    having sum(quantity) > 250\n",
                "    order by total_quantity desc;\n",
                "    "
            ],
            "metadata": {
                "azdata_cell_guid": "f8b03aad-4831-4639-ab2a-9c61a78196d7"
            },
            "outputs": [],
            "execution_count": null
        },
        {
            "cell_type": "markdown",
            "source": [
                "### Ćwiczenie 3\n",
                "\n",
                "1. Napisz polecenie, które oblicza sumaryczną ilość zamówionych towarów i porządkujewg produktid i orderid oraz wykonuje kalkulacje rollup"
            ],
            "metadata": {
                "azdata_cell_guid": "9d5c38e7-25f8-4f7f-8417-609582dbc121"
            }
        },
        {
            "cell_type": "code",
            "source": [
                "select sum(quantity) as 'suma', productid, orderid \n",
                "    from [order details]\n",
                "    group by rollup(productid, orderid)\n",
                "    order by suma desc; "
            ],
            "metadata": {
                "azdata_cell_guid": "07b4d884-08c9-4a5b-9338-35bc2c76a709"
            },
            "outputs": [],
            "execution_count": null
        },
        {
            "cell_type": "markdown",
            "source": [
                "2. Zmodyfikuj zapytanie z punktu 1., tak aby ograniczyć wynik tylko do produktu o numerze 50"
            ],
            "metadata": {
                "azdata_cell_guid": "30fa9470-6ed2-4462-b775-7708ffb44036"
            }
        },
        {
            "cell_type": "code",
            "source": [
                "select sum(quantity) as 'suma', productid, orderid \n",
                "    from [order details]\n",
                "    where productid = 50\n",
                "    group by rollup(productid, orderid)\n",
                "    order by suma desc; "
            ],
            "metadata": {
                "azdata_cell_guid": "908efff9-47c0-454f-8ab6-c580ba91d8d8"
            },
            "outputs": [],
            "execution_count": null
        },
        {
            "cell_type": "markdown",
            "source": [
                "3. Jakie jest znaczenie wartości null w kolumnie productid i orderid?\n",
                "\n",
                "```Duze, bardzo duze ->  to podsumowania```\n",
                "\n",
                "4. Zmodyfikuj polecenie z punktu 1. używając operatora cube zamiast rollup. Użyj również funkcji grouping na kolumnach productid i orderid do rozróżnienia między sumarycznymi i szegółowymi wierdszami w zbiorze."
            ],
            "metadata": {
                "azdata_cell_guid": "d3c30c12-10a6-4449-94de-8f25f9444622"
            }
        },
        {
            "cell_type": "code",
            "source": [
                "select productid, orderid, sum(quantity) as 'suma', grouping(orderid) as 'orderidgroup', grouping(productid) as 'productidgroup'\n",
                "    from [order details]\n",
                "    group by cube(productid, orderid)\n",
                "    order by suma desc; "
            ],
            "metadata": {
                "azdata_cell_guid": "cf795025-7541-411d-b8da-a1f18b602ec9",
                "tags": []
            },
            "outputs": [],
            "execution_count": null
        },
        {
            "cell_type": "markdown",
            "source": [
                "### Ćwiczenie 4\n",
                "1. Dla każdego pracownika podaj liczbę obsługiwanych przez niego zamówień\n",
                "2. Dla każdego spedytora/przewoźnika podaj wartość \"opłata za przesyłkę\"\n",
                "przewożonych przez niego zamówień\n",
                "3. Dla każdego spedytora/przewoźnika podaj wartość \"opłata za przesyłkę\"\n",
                "przewożonych przez niego zamówień w latach o 1996 do 1997"
            ],
            "metadata": {
                "azdata_cell_guid": "c86ac4cb-3fd6-4d47-89e0-049ed03dbb3d"
            }
        },
        {
            "cell_type": "code",
            "source": [
                "SELECT COUNT(*),EmployeeID from Orders GROUP BY EmployeeID;"
            ],
            "metadata": {
                "azdata_cell_guid": "c538202b-709d-4ace-aac4-885ef7abc043"
            },
            "outputs": [],
            "execution_count": null
        },
        {
            "cell_type": "markdown",
            "source": [
                "### Ćwiczenie 5\n",
                "\n",
                "1. Dla każdego pracownika podaj liczbę obsługiwanych przez niego zamówień z podziałem na lata i miesiące"
            ],
            "metadata": {
                "azdata_cell_guid": "2d4f5b2f-0212-4c86-9741-ad9e89467f9c"
            },
            "attachments": {}
        },
        {
            "cell_type": "code",
            "source": [
                "SELECT COUNT(*),EmployeeID,YEAR(ShippedDate)as year,MONTH(ShippedDate) as month \n",
                "    FROM Orders \n",
                "    GROUP BY EmployeeID,YEAR(ShippedDate),MONTH(ShippedDate) \n",
                "    WITH ROLLUP;"
            ],
            "metadata": {
                "azdata_cell_guid": "f0ff3431-1c0a-45c0-a792-ec5cf629fd14"
            },
            "outputs": [],
            "execution_count": null
        },
        {
            "cell_type": "markdown",
            "source": [
                "2. Dla każdej kategorii podaj maksymalną i minimalną cenę produktu w tej kategorii"
            ],
            "metadata": {
                "azdata_cell_guid": "2c82f442-47a6-4ea3-82f0-a80b7f7312be"
            },
            "attachments": {}
        },
        {
            "cell_type": "code",
            "source": [
                "SELECT MAX(UnitPrice)as max,MIN(UnitPrice) as min, CategoryID\n",
                "    FROM Products\n",
                "    GROUP BY CategoryID;"
            ],
            "metadata": {
                "azdata_cell_guid": "2bc36a26-1a54-4bdb-a1d3-d43aa54a50b2"
            },
            "outputs": [],
            "execution_count": null
        }
    ]
}